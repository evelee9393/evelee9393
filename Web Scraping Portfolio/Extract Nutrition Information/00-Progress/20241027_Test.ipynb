{
 "cells": [
  {
   "cell_type": "code",
   "execution_count": null,
   "metadata": {},
   "outputs": [
    {
     "data": {
      "text/html": [
       "<div>\n",
       "<style scoped>\n",
       "    .dataframe tbody tr th:only-of-type {\n",
       "        vertical-align: middle;\n",
       "    }\n",
       "\n",
       "    .dataframe tbody tr th {\n",
       "        vertical-align: top;\n",
       "    }\n",
       "\n",
       "    .dataframe thead th {\n",
       "        text-align: right;\n",
       "    }\n",
       "</style>\n",
       "<table border=\"1\" class=\"dataframe\">\n",
       "  <thead>\n",
       "    <tr style=\"text-align: right;\">\n",
       "      <th></th>\n",
       "      <th>樣品名稱</th>\n",
       "      <th>熱量</th>\n",
       "      <th>粗蛋白</th>\n",
       "      <th>粗脂肪</th>\n",
       "      <th>飽和脂肪</th>\n",
       "      <th>總碳水化合物</th>\n",
       "      <th>膳食纖維</th>\n",
       "      <th>糖質總量</th>\n",
       "      <th>鈉</th>\n",
       "      <th>膽固醇</th>\n",
       "      <th>反式脂肪</th>\n",
       "    </tr>\n",
       "  </thead>\n",
       "  <tbody>\n",
       "    <tr>\n",
       "      <th>0</th>\n",
       "      <td>冷凍火腿炒飯</td>\n",
       "      <td>189</td>\n",
       "      <td>5.0</td>\n",
       "      <td>5.6</td>\n",
       "      <td>1.1</td>\n",
       "      <td>29.7</td>\n",
       "      <td>2.0</td>\n",
       "      <td>NaN</td>\n",
       "      <td>220</td>\n",
       "      <td>37.0</td>\n",
       "      <td>NaN</td>\n",
       "    </tr>\n",
       "    <tr>\n",
       "      <th>1</th>\n",
       "      <td>冷凍蝦仁炒飯</td>\n",
       "      <td>148</td>\n",
       "      <td>4.7</td>\n",
       "      <td>3.4</td>\n",
       "      <td>0.5</td>\n",
       "      <td>24.6</td>\n",
       "      <td>2.7</td>\n",
       "      <td>1.3</td>\n",
       "      <td>222</td>\n",
       "      <td>11.0</td>\n",
       "      <td>13.41</td>\n",
       "    </tr>\n",
       "    <tr>\n",
       "      <th>2</th>\n",
       "      <td>冷凍筒仔米糕</td>\n",
       "      <td>212</td>\n",
       "      <td>6.5</td>\n",
       "      <td>5.8</td>\n",
       "      <td>2.2</td>\n",
       "      <td>33.6</td>\n",
       "      <td>0.7</td>\n",
       "      <td>NaN</td>\n",
       "      <td>331</td>\n",
       "      <td>13.0</td>\n",
       "      <td>NaN</td>\n",
       "    </tr>\n",
       "    <tr>\n",
       "      <th>3</th>\n",
       "      <td>冷凍芝麻湯圓</td>\n",
       "      <td>352</td>\n",
       "      <td>4.8</td>\n",
       "      <td>16.3</td>\n",
       "      <td>6.6</td>\n",
       "      <td>46.7</td>\n",
       "      <td>0.9</td>\n",
       "      <td>9.7</td>\n",
       "      <td>3</td>\n",
       "      <td>0.0</td>\n",
       "      <td>69.29</td>\n",
       "    </tr>\n",
       "    <tr>\n",
       "      <th>4</th>\n",
       "      <td>冷凍花生湯圓</td>\n",
       "      <td>350</td>\n",
       "      <td>5.2</td>\n",
       "      <td>15.6</td>\n",
       "      <td>7.3</td>\n",
       "      <td>47.1</td>\n",
       "      <td>0.6</td>\n",
       "      <td>9.8</td>\n",
       "      <td>6</td>\n",
       "      <td>0.0</td>\n",
       "      <td>66.28</td>\n",
       "    </tr>\n",
       "    <tr>\n",
       "      <th>...</th>\n",
       "      <td>...</td>\n",
       "      <td>...</td>\n",
       "      <td>...</td>\n",
       "      <td>...</td>\n",
       "      <td>...</td>\n",
       "      <td>...</td>\n",
       "      <td>...</td>\n",
       "      <td>...</td>\n",
       "      <td>...</td>\n",
       "      <td>...</td>\n",
       "      <td>...</td>\n",
       "    </tr>\n",
       "    <tr>\n",
       "      <th>75</th>\n",
       "      <td>冷凍蟹味棒</td>\n",
       "      <td>118</td>\n",
       "      <td>9.3</td>\n",
       "      <td>0.7</td>\n",
       "      <td>0.2</td>\n",
       "      <td>18.6</td>\n",
       "      <td>NaN</td>\n",
       "      <td>3.1</td>\n",
       "      <td>694</td>\n",
       "      <td>NaN</td>\n",
       "      <td>4.80</td>\n",
       "    </tr>\n",
       "    <tr>\n",
       "      <th>76</th>\n",
       "      <td>冷凍魚卵卷</td>\n",
       "      <td>115</td>\n",
       "      <td>12.9</td>\n",
       "      <td>0.2</td>\n",
       "      <td>0.1</td>\n",
       "      <td>15.5</td>\n",
       "      <td>NaN</td>\n",
       "      <td>3.7</td>\n",
       "      <td>830</td>\n",
       "      <td>28.0</td>\n",
       "      <td>6.32</td>\n",
       "    </tr>\n",
       "    <tr>\n",
       "      <th>77</th>\n",
       "      <td>冷凍花枝漿</td>\n",
       "      <td>227</td>\n",
       "      <td>11.2</td>\n",
       "      <td>12.6</td>\n",
       "      <td>4.5</td>\n",
       "      <td>17.1</td>\n",
       "      <td>2.0</td>\n",
       "      <td>1.8</td>\n",
       "      <td>637</td>\n",
       "      <td>188.0</td>\n",
       "      <td>NaN</td>\n",
       "    </tr>\n",
       "    <tr>\n",
       "      <th>78</th>\n",
       "      <td>冷凍花枝羹</td>\n",
       "      <td>126</td>\n",
       "      <td>11.4</td>\n",
       "      <td>4.7</td>\n",
       "      <td>1.8</td>\n",
       "      <td>9.4</td>\n",
       "      <td>NaN</td>\n",
       "      <td>NaN</td>\n",
       "      <td>448</td>\n",
       "      <td>80.0</td>\n",
       "      <td>NaN</td>\n",
       "    </tr>\n",
       "    <tr>\n",
       "      <th>79</th>\n",
       "      <td>冷凍烤雞翅</td>\n",
       "      <td>217</td>\n",
       "      <td>18.8</td>\n",
       "      <td>14.2</td>\n",
       "      <td>3.9</td>\n",
       "      <td>3.6</td>\n",
       "      <td>NaN</td>\n",
       "      <td>NaN</td>\n",
       "      <td>509</td>\n",
       "      <td>109.0</td>\n",
       "      <td>NaN</td>\n",
       "    </tr>\n",
       "  </tbody>\n",
       "</table>\n",
       "<p>80 rows × 11 columns</p>\n",
       "</div>"
      ],
      "text/plain": [
       "      樣品名稱   熱量   粗蛋白   粗脂肪  飽和脂肪  總碳水化合物  膳食纖維  糖質總量    鈉    膽固醇   反式脂肪\n",
       "0   冷凍火腿炒飯  189   5.0   5.6   1.1    29.7   2.0   NaN  220   37.0    NaN\n",
       "1   冷凍蝦仁炒飯  148   4.7   3.4   0.5    24.6   2.7   1.3  222   11.0  13.41\n",
       "2   冷凍筒仔米糕  212   6.5   5.8   2.2    33.6   0.7   NaN  331   13.0    NaN\n",
       "3   冷凍芝麻湯圓  352   4.8  16.3   6.6    46.7   0.9   9.7    3    0.0  69.29\n",
       "4   冷凍花生湯圓  350   5.2  15.6   7.3    47.1   0.6   9.8    6    0.0  66.28\n",
       "..     ...  ...   ...   ...   ...     ...   ...   ...  ...    ...    ...\n",
       "75   冷凍蟹味棒  118   9.3   0.7   0.2    18.6   NaN   3.1  694    NaN   4.80\n",
       "76   冷凍魚卵卷  115  12.9   0.2   0.1    15.5   NaN   3.7  830   28.0   6.32\n",
       "77   冷凍花枝漿  227  11.2  12.6   4.5    17.1   2.0   1.8  637  188.0    NaN\n",
       "78   冷凍花枝羹  126  11.4   4.7   1.8     9.4   NaN   NaN  448   80.0    NaN\n",
       "79   冷凍烤雞翅  217  18.8  14.2   3.9     3.6   NaN   NaN  509  109.0    NaN\n",
       "\n",
       "[80 rows x 11 columns]"
      ]
     },
     "execution_count": 1,
     "metadata": {},
     "output_type": "execute_result"
    }
   ],
   "source": [
    "import streamlit as st\n",
    "import pandas as pd\n",
    "import matplotlib.pyplot as plt\n",
    "import plotly.graph_objects as go\n",
    "import matplotlib.font_manager as fm \n",
    "\n",
    "# Load your dataset\n",
    "# For simplicity, we assume `df` is your data, with columns like Energy, Saturated Fat, Sugars, Sodium, Protein, Fiber, etc.\n",
    "df = pd.read_csv('FrozenFood_ExtractedNutrInfo.csv', encoding='utf-8')\n",
    "\n",
    "df"
   ]
  },
  {
   "cell_type": "code",
   "execution_count": 2,
   "metadata": {},
   "outputs": [],
   "source": [
    "# 使用 FontProperties 建立字體屬性物件\n",
    "myfont = fm.FontProperties(fname=r'./NotoSansCJK-DemiLight.ttc')"
   ]
  },
  {
   "cell_type": "code",
   "execution_count": 3,
   "metadata": {},
   "outputs": [
    {
     "name": "stderr",
     "output_type": "stream",
     "text": [
      "2024-11-03 22:00:39.895 \n",
      "  \u001b[33m\u001b[1mWarning:\u001b[0m to view this Streamlit app on a browser, run it with the following\n",
      "  command:\n",
      "\n",
      "    streamlit run c:\\Users\\evele\\anaconda3\\Lib\\site-packages\\ipykernel_launcher.py [ARGUMENTS]\n"
     ]
    },
    {
     "data": {
      "text/plain": [
       "熱量        189.0\n",
       "粗蛋白         5.0\n",
       "粗脂肪         5.6\n",
       "飽和脂肪        1.1\n",
       "總碳水化合物     29.7\n",
       "膳食纖維        2.0\n",
       "糖質總量        NaN\n",
       "鈉         220.0\n",
       "膽固醇        37.0\n",
       "反式脂肪        NaN\n",
       "HSR         3.0\n",
       "Name: 0, dtype: float64"
      ]
     },
     "execution_count": 3,
     "metadata": {},
     "output_type": "execute_result"
    }
   ],
   "source": [
    "# Function to calculate Health Score Rating (HSR)\n",
    "def calculate_hsr(row):\n",
    "    # Example calculation, adjust the logic as per your rating system\n",
    "    rating = 0\n",
    "    if row['熱量'] < 400:\n",
    "        rating += 1\n",
    "    if row['飽和脂肪'] < 5:\n",
    "        rating += 1\n",
    "    if row['糖質總量'] < 20.7:\n",
    "        rating += 1\n",
    "    if row['鈉'] < 450:\n",
    "        rating += 1\n",
    "    # Additional rating based on Protein and Fiber\n",
    "    if row['粗蛋白'] > 8:\n",
    "        rating += 1\n",
    "    if row['膳食纖維'] > 4.7:\n",
    "        rating += 1\n",
    "    return rating\n",
    "\n",
    "df['HSR'] = df.apply(calculate_hsr, axis=1)\n",
    "\n",
    "# Sidebar filters\n",
    "st.sidebar.title('Filter Nutritional Data')\n",
    "#selected_filter = st.sidebar.selectbox('Select an Item', ['Average', *df['樣品名稱'].unique()])\n",
    "selected_filter = '冷凍火腿炒飯'\n",
    "\n",
    "# figure out numeric data for filtering\n",
    "def data_filter(df, filter_value):\n",
    "    \"\"\"\n",
    "    Returns the data row to be plotted based on filter_value.\n",
    "    If filter_value is 'Average', returns the average of numeric columns.\n",
    "    Otherwise, returns the data for the specified filter_value.\n",
    "    \"\"\"\n",
    "    if filter_value == 'Average':\n",
    "        return df.select_dtypes(include=['number']).mean().round(2)\n",
    "    else:\n",
    "        # Filter by selected item and select first numeric row\n",
    "        filtered_data = df[df['樣品名稱'] == filter_value].select_dtypes(include=['number'])\n",
    "        if not filtered_data.empty:\n",
    "            return filtered_data.iloc[0]\n",
    "        else:\n",
    "            st.warning(\"No numeric data available for the selected item.\")\n",
    "            return None\n",
    "\n",
    "# Get data for filtering\n",
    "data_filtered = data_filter(df, selected_filter)\n",
    "data_filtered"
   ]
  },
  {
   "cell_type": "code",
   "execution_count": 4,
   "metadata": {},
   "outputs": [
    {
     "data": {
      "text/html": [
       "<div>\n",
       "<style scoped>\n",
       "    .dataframe tbody tr th:only-of-type {\n",
       "        vertical-align: middle;\n",
       "    }\n",
       "\n",
       "    .dataframe tbody tr th {\n",
       "        vertical-align: top;\n",
       "    }\n",
       "\n",
       "    .dataframe thead th {\n",
       "        text-align: right;\n",
       "    }\n",
       "</style>\n",
       "<table border=\"1\" class=\"dataframe\">\n",
       "  <thead>\n",
       "    <tr style=\"text-align: right;\">\n",
       "      <th></th>\n",
       "      <th>Nutrient</th>\n",
       "      <th>冷凍火腿炒飯</th>\n",
       "      <th>Unit per 100 g or ml</th>\n",
       "    </tr>\n",
       "  </thead>\n",
       "  <tbody>\n",
       "    <tr>\n",
       "      <th>0</th>\n",
       "      <td>熱量</td>\n",
       "      <td>189.0</td>\n",
       "      <td>kcal</td>\n",
       "    </tr>\n",
       "    <tr>\n",
       "      <th>1</th>\n",
       "      <td>粗蛋白</td>\n",
       "      <td>5.0</td>\n",
       "      <td>g</td>\n",
       "    </tr>\n",
       "    <tr>\n",
       "      <th>2</th>\n",
       "      <td>粗脂肪</td>\n",
       "      <td>5.6</td>\n",
       "      <td>g</td>\n",
       "    </tr>\n",
       "    <tr>\n",
       "      <th>3</th>\n",
       "      <td>飽和脂肪</td>\n",
       "      <td>1.1</td>\n",
       "      <td>g</td>\n",
       "    </tr>\n",
       "    <tr>\n",
       "      <th>4</th>\n",
       "      <td>總碳水化合物</td>\n",
       "      <td>29.7</td>\n",
       "      <td>g</td>\n",
       "    </tr>\n",
       "    <tr>\n",
       "      <th>5</th>\n",
       "      <td>膳食纖維</td>\n",
       "      <td>2.0</td>\n",
       "      <td>g</td>\n",
       "    </tr>\n",
       "    <tr>\n",
       "      <th>6</th>\n",
       "      <td>糖質總量</td>\n",
       "      <td>NaN</td>\n",
       "      <td>g</td>\n",
       "    </tr>\n",
       "    <tr>\n",
       "      <th>7</th>\n",
       "      <td>鈉</td>\n",
       "      <td>220.0</td>\n",
       "      <td>g</td>\n",
       "    </tr>\n",
       "    <tr>\n",
       "      <th>8</th>\n",
       "      <td>膽固醇</td>\n",
       "      <td>37.0</td>\n",
       "      <td>g</td>\n",
       "    </tr>\n",
       "    <tr>\n",
       "      <th>9</th>\n",
       "      <td>反式脂肪</td>\n",
       "      <td>NaN</td>\n",
       "      <td>mg</td>\n",
       "    </tr>\n",
       "    <tr>\n",
       "      <th>10</th>\n",
       "      <td>HSR</td>\n",
       "      <td>3.0</td>\n",
       "      <td>Score</td>\n",
       "    </tr>\n",
       "  </tbody>\n",
       "</table>\n",
       "</div>"
      ],
      "text/plain": [
       "   Nutrient  冷凍火腿炒飯 Unit per 100 g or ml\n",
       "0        熱量   189.0                 kcal\n",
       "1       粗蛋白     5.0                    g\n",
       "2       粗脂肪     5.6                    g\n",
       "3      飽和脂肪     1.1                    g\n",
       "4    總碳水化合物    29.7                    g\n",
       "5      膳食纖維     2.0                    g\n",
       "6      糖質總量     NaN                    g\n",
       "7         鈉   220.0                    g\n",
       "8       膽固醇    37.0                    g\n",
       "9      反式脂肪     NaN                   mg\n",
       "10      HSR     3.0                Score"
      ]
     },
     "execution_count": 4,
     "metadata": {},
     "output_type": "execute_result"
    }
   ],
   "source": [
    "def nutr_info():\n",
    "    dF = pd.DataFrame(data_filtered).reset_index()\n",
    "    dF.columns = ['Nutrient', selected_filter]\n",
    "\n",
    "    # Explicitly set the units column as string type\n",
    "    dF['Unit per 100 g or ml'] = pd.Series(['kcal', 'g', 'g', 'g','g','g','g','g','g','mg', 'Score'])\n",
    "    \n",
    "    return dF\n",
    "    # Display the DataFrame in Streamlit\n",
    "    # st.sidebar.table(dF.set_index('Nutrient'))\n",
    "\n",
    "nutr_info()"
   ]
  },
  {
   "cell_type": "code",
   "execution_count": 11,
   "metadata": {},
   "outputs": [
    {
     "data": {
      "text/html": [
       "<div>\n",
       "<style scoped>\n",
       "    .dataframe tbody tr th:only-of-type {\n",
       "        vertical-align: middle;\n",
       "    }\n",
       "\n",
       "    .dataframe tbody tr th {\n",
       "        vertical-align: top;\n",
       "    }\n",
       "\n",
       "    .dataframe thead th {\n",
       "        text-align: right;\n",
       "    }\n",
       "</style>\n",
       "<table border=\"1\" class=\"dataframe\">\n",
       "  <thead>\n",
       "    <tr style=\"text-align: right;\">\n",
       "      <th></th>\n",
       "      <th>Nutrient</th>\n",
       "      <th>冷凍火腿炒飯</th>\n",
       "      <th>Unit per 100 g or ml</th>\n",
       "      <th>PDV</th>\n",
       "    </tr>\n",
       "  </thead>\n",
       "  <tbody>\n",
       "    <tr>\n",
       "      <th>0</th>\n",
       "      <td>熱量</td>\n",
       "      <td>189.0</td>\n",
       "      <td>kcal</td>\n",
       "      <td>10.50</td>\n",
       "    </tr>\n",
       "    <tr>\n",
       "      <th>1</th>\n",
       "      <td>粗蛋白</td>\n",
       "      <td>5.0</td>\n",
       "      <td>g</td>\n",
       "      <td>7.69</td>\n",
       "    </tr>\n",
       "    <tr>\n",
       "      <th>3</th>\n",
       "      <td>飽和脂肪</td>\n",
       "      <td>1.1</td>\n",
       "      <td>g</td>\n",
       "      <td>5.50</td>\n",
       "    </tr>\n",
       "    <tr>\n",
       "      <th>5</th>\n",
       "      <td>膳食纖維</td>\n",
       "      <td>2.0</td>\n",
       "      <td>g</td>\n",
       "      <td>8.00</td>\n",
       "    </tr>\n",
       "    <tr>\n",
       "      <th>6</th>\n",
       "      <td>糖質總量</td>\n",
       "      <td>0.0</td>\n",
       "      <td>g</td>\n",
       "      <td>0.00</td>\n",
       "    </tr>\n",
       "    <tr>\n",
       "      <th>7</th>\n",
       "      <td>鈉</td>\n",
       "      <td>220.0</td>\n",
       "      <td>g</td>\n",
       "      <td>9.57</td>\n",
       "    </tr>\n",
       "  </tbody>\n",
       "</table>\n",
       "</div>"
      ],
      "text/plain": [
       "  Nutrient  冷凍火腿炒飯 Unit per 100 g or ml    PDV\n",
       "0       熱量   189.0                 kcal  10.50\n",
       "1      粗蛋白     5.0                    g   7.69\n",
       "3     飽和脂肪     1.1                    g   5.50\n",
       "5     膳食纖維     2.0                    g   8.00\n",
       "6     糖質總量     0.0                    g   0.00\n",
       "7        鈉   220.0                    g   9.57"
      ]
     },
     "execution_count": 11,
     "metadata": {},
     "output_type": "execute_result"
    }
   ],
   "source": [
    "def nutr_table():\n",
    "    dF = nutr_info() # Fetch DataFrame from nutr_info\n",
    "    \n",
    "    #Calculate Percent Daily Value\n",
    "    # Step 1: Extract the selected nutrient values from the DataFrame\n",
    "    selected_nutrients = ['熱量', '粗蛋白', '飽和脂肪', '膳食纖維', '糖質總量', '鈉']\n",
    "    NutrTable = dF[dF['Nutrient'].isin(selected_nutrients)].copy().fillna(0)\n",
    "\n",
    "    \n",
    "    # Step 2: Define the Daily Recommended Values (DRV)\n",
    "    DRV = [1800, 65, 20, 25, 45, 2300] #每日飲食建議 31-50歲, 男女不同取稍低活動的中間值\n",
    "    \n",
    "    # Step 3a: Calculate Percent Daily Value (PDV) and add it as a new column\n",
    "    NutrTable['PDV'] = (NutrTable[selected_filter].values / DRV) * 100\n",
    "\n",
    "    # Step 3b: Round PDV values\n",
    "    NutrTable['PDV'] = NutrTable['PDV'].round(2).fillna(0)\n",
    "\n",
    "    return NutrTable\n",
    "\n",
    "Nutr_Table = nutr_table()\n",
    "Nutr_Table"
   ]
  },
  {
   "cell_type": "code",
   "execution_count": 12,
   "metadata": {},
   "outputs": [
    {
     "data": {
      "text/plain": [
       "array([189. ,   5. ,   1.1,   2. ,   0. , 220. ])"
      ]
     },
     "execution_count": 12,
     "metadata": {},
     "output_type": "execute_result"
    }
   ],
   "source": [
    "Nutr_Table[selected_filter].values"
   ]
  },
  {
   "cell_type": "code",
   "execution_count": 18,
   "metadata": {},
   "outputs": [
    {
     "data": {
      "image/png": "[encoded data removed]",
      "text/plain": [
       "<Figure size 800x600 with 6 Axes>"
      ]
     },
     "metadata": {},
     "output_type": "display_data"
    }
   ],
   "source": [
    "def nutr_graph():\n",
    "       # Define colors\n",
    "       bg_color = 'lightgray'\n",
    "       progress_colors = ['blue', 'orange', 'brown', 'green', 'red', 'lightblue']\n",
    "\n",
    "       # Create 3x2 grid of subplots\n",
    "       fig, axes = plt.subplots(2, 3, figsize=(8, 6))\n",
    "       axes = axes.ravel()  # Flatten axes array for easy indexing\n",
    "\n",
    "       #Nutr_Table = Nutr_Table.rename(columns={'Unit per 100 g or ml': 'Unit_per_100g_or_ml'})\n",
    "       Nutr_Table['Unit'] = Nutr_Table['Unit per 100 g or ml']\n",
    "\n",
    "       for i, row in enumerate(Nutr_Table.itertuples()):\n",
    "              # Define the value for the progress percentage\n",
    "              Pvalue = getattr(row, 'PDV') if not pd.isna(getattr(row, 'PDV')) else \"0\"\n",
    "              value = getattr(row, selected_filter) if not pd.isna(getattr(row, selected_filter)) else \"No Info\"\n",
    "              unit = getattr(row, 'Unit')\n",
    "\n",
    "              # Plot each nutrient's progress ring\n",
    "              axes[i].pie(\n",
    "                     [Pvalue, 100 - Pvalue],\n",
    "                     startangle=90, \n",
    "                     colors=[progress_colors[i], bg_color], \n",
    "                     wedgeprops={'width': 0.3}\n",
    "              )\n",
    "              # Set title for each subplot with the nutrient name\n",
    "              axes[i].set_title(row.Nutrient, fontproperties=myfont, fontsize=16) \n",
    "\n",
    "              # Annotate the pie chart with two lines in the center\n",
    "              axes[i].text(\n",
    "              0, 0.1, f\"{Pvalue:.1f}%\" if Pvalue != 0 else \"No Info\",  # The percentage in large font\n",
    "              ha=\"center\", va=\"center\", fontsize=16, fontweight=\"bold\"\n",
    "              )\n",
    "              axes[i].text(\n",
    "              0, -0.1, f\"{value} {unit}\" if value != 0 else \"No Info\",  # The actual value in smaller font\n",
    "              ha=\"center\", va=\"center\", fontsize=10, color=\"gray\"\n",
    "              )\n",
    "\n",
    "       plt.suptitle(f'每日總熱量的百分比 - {selected_filter}', fontproperties=myfont, fontsize=20)\n",
    "       plt.tight_layout()\n",
    "       plt.show()\n",
    "\n",
    "nutr_graph()"
   ]
  },
  {
   "cell_type": "code",
   "execution_count": 19,
   "metadata": {},
   "outputs": [
    {
     "data": {
      "application/vnd.plotly.v1+json": {
       "config": {
        "plotlyServerURL": "https://plot.ly"
       },
       "data": [
        {
         "domain": {
          "x": [
           0,
           1
          ],
          "y": [
           0,
           1
          ]
         },
         "gauge": {
          "axis": {
           "range": [
            null,
            5
           ]
          },
          "bar": {
           "color": "yellow"
          },
          "steps": [
           {
            "color": "gray",
            "range": [
             0,
             2
            ]
           },
           {
            "color": "lightgray",
            "range": [
             2,
             3.5
            ]
           }
          ]
         },
         "mode": "gauge+number",
         "type": "indicator",
         "value": 3
        }
       ],
       "layout": {
        "annotations": [
         {
          "font": {
           "size": 20
          },
          "showarrow": false,
          "text": "Health Score Value",
          "x": 0.5,
          "y": 0.5
         }
        ],
        "template": {
         "data": {
          "candlestick": [
           {
            "decreasing": {
             "line": {
              "color": "#000033"
             }
            },
            "increasing": {
             "line": {
              "color": "#000032"
             }
            },
            "type": "candlestick"
           }
          ],
          "contour": [
           {
            "colorscale": [
             [
              0,
              "#000011"
             ],
             [
              0.1111111111111111,
              "#000012"
             ],
             [
              0.2222222222222222,
              "#000013"
             ],
             [
              0.3333333333333333,
              "#000014"
             ],
             [
              0.4444444444444444,
              "#000015"
             ],
             [
              0.5555555555555556,
              "#000016"
             ],
             [
              0.6666666666666666,
              "#000017"
             ],
             [
              0.7777777777777778,
              "#000018"
             ],
             [
              0.8888888888888888,
              "#000019"
             ],
             [
              1,
              "#000020"
             ]
            ],
            "type": "contour"
           }
          ],
          "contourcarpet": [
           {
            "colorscale": [
             [
              0,
              "#000011"
             ],
             [
              0.1111111111111111,
              "#000012"
             ],
             [
              0.2222222222222222,
              "#000013"
             ],
             [
              0.3333333333333333,
              "#000014"
             ],
             [
              0.4444444444444444,
              "#000015"
             ],
             [
              0.5555555555555556,
              "#000016"
             ],
             [
              0.6666666666666666,
              "#000017"
             ],
             [
              0.7777777777777778,
              "#000018"
             ],
             [
              0.8888888888888888,
              "#000019"
             ],
             [
              1,
              "#000020"
             ]
            ],
            "type": "contourcarpet"
           }
          ],
          "heatmap": [
           {
            "colorscale": [
             [
              0,
              "#000011"
             ],
             [
              0.1111111111111111,
              "#000012"
             ],
             [
              0.2222222222222222,
              "#000013"
             ],
             [
              0.3333333333333333,
              "#000014"
             ],
             [
              0.4444444444444444,
              "#000015"
             ],
             [
              0.5555555555555556,
              "#000016"
             ],
             [
              0.6666666666666666,
              "#000017"
             ],
             [
              0.7777777777777778,
              "#000018"
             ],
             [
              0.8888888888888888,
              "#000019"
             ],
             [
              1,
              "#000020"
             ]
            ],
            "type": "heatmap"
           }
          ],
          "histogram2d": [
           {
            "colorscale": [
             [
              0,
              "#000011"
             ],
             [
              0.1111111111111111,
              "#000012"
             ],
             [
              0.2222222222222222,
              "#000013"
             ],
             [
              0.3333333333333333,
              "#000014"
             ],
             [
              0.4444444444444444,
              "#000015"
             ],
             [
              0.5555555555555556,
              "#000016"
             ],
             [
              0.6666666666666666,
              "#000017"
             ],
             [
              0.7777777777777778,
              "#000018"
             ],
             [
              0.8888888888888888,
              "#000019"
             ],
             [
              1,
              "#000020"
             ]
            ],
            "type": "histogram2d"
           }
          ],
          "icicle": [
           {
            "textfont": {
             "color": "white"
            },
            "type": "icicle"
           }
          ],
          "sankey": [
           {
            "textfont": {
             "color": "#000036"
            },
            "type": "sankey"
           }
          ],
          "scatter": [
           {
            "marker": {
             "line": {
              "width": 0
             }
            },
            "type": "scatter"
           }
          ],
          "table": [
           {
            "cells": {
             "fill": {
              "color": "#000038"
             },
             "font": {
              "color": "#000037"
             },
             "line": {
              "color": "#000039"
             }
            },
            "header": {
             "fill": {
              "color": "#000040"
             },
             "font": {
              "color": "#000036"
             },
             "line": {
              "color": "#000039"
             }
            },
            "type": "table"
           }
          ],
          "waterfall": [
           {
            "connector": {
             "line": {
              "color": "#000036",
              "width": 2
             }
            },
            "decreasing": {
             "marker": {
              "color": "#000033"
             }
            },
            "increasing": {
             "marker": {
              "color": "#000032"
             }
            },
            "totals": {
             "marker": {
              "color": "#000034"
             }
            },
            "type": "waterfall"
           }
          ]
         },
         "layout": {
          "coloraxis": {
           "colorscale": [
            [
             0,
             "#000011"
            ],
            [
             0.1111111111111111,
             "#000012"
            ],
            [
             0.2222222222222222,
             "#000013"
            ],
            [
             0.3333333333333333,
             "#000014"
            ],
            [
             0.4444444444444444,
             "#000015"
            ],
            [
             0.5555555555555556,
             "#000016"
            ],
            [
             0.6666666666666666,
             "#000017"
            ],
            [
             0.7777777777777778,
             "#000018"
            ],
            [
             0.8888888888888888,
             "#000019"
            ],
            [
             1,
             "#000020"
            ]
           ]
          },
          "colorscale": {
           "diverging": [
            [
             0,
             "#000021"
            ],
            [
             0.1,
             "#000022"
            ],
            [
             0.2,
             "#000023"
            ],
            [
             0.3,
             "#000024"
            ],
            [
             0.4,
             "#000025"
            ],
            [
             0.5,
             "#000026"
            ],
            [
             0.6,
             "#000027"
            ],
            [
             0.7,
             "#000028"
            ],
            [
             0.8,
             "#000029"
            ],
            [
             0.9,
             "#000030"
            ],
            [
             1,
             "#000031"
            ]
           ],
           "sequential": [
            [
             0,
             "#000011"
            ],
            [
             0.1111111111111111,
             "#000012"
            ],
            [
             0.2222222222222222,
             "#000013"
            ],
            [
             0.3333333333333333,
             "#000014"
            ],
            [
             0.4444444444444444,
             "#000015"
            ],
            [
             0.5555555555555556,
             "#000016"
            ],
            [
             0.6666666666666666,
             "#000017"
            ],
            [
             0.7777777777777778,
             "#000018"
            ],
            [
             0.8888888888888888,
             "#000019"
            ],
            [
             1,
             "#000020"
            ]
           ],
           "sequentialminus": [
            [
             0,
             "#000011"
            ],
            [
             0.1111111111111111,
             "#000012"
            ],
            [
             0.2222222222222222,
             "#000013"
            ],
            [
             0.3333333333333333,
             "#000014"
            ],
            [
             0.4444444444444444,
             "#000015"
            ],
            [
             0.5555555555555556,
             "#000016"
            ],
            [
             0.6666666666666666,
             "#000017"
            ],
            [
             0.7777777777777778,
             "#000018"
            ],
            [
             0.8888888888888888,
             "#000019"
            ],
            [
             1,
             "#000020"
            ]
           ]
          },
          "colorway": [
           "#000001",
           "#000002",
           "#000003",
           "#000004",
           "#000005",
           "#000006",
           "#000007",
           "#000008",
           "#000009",
           "#000010"
          ]
         }
        }
       }
      }
     },
     "metadata": {},
     "output_type": "display_data"
    }
   ],
   "source": [
    "def HSR_meter():\n",
    "    dF = nutr_info() # Fetch DataFrame from nutr_info\n",
    "    score = dF.loc[dF['Nutrient'] == 'HSR', selected_filter].values[0]\n",
    "\n",
    "    # Set the meter color based on value\n",
    "    bar_color = (\n",
    "        \"red\" if score <= 1 else\n",
    "        \"orange\" if score <= 2 else\n",
    "        \"yellow\" if score <= 3 else\n",
    "        \"lightgreen\" if score <= 4 else\n",
    "        \"green\"\n",
    "    )\n",
    "\n",
    "    fig = go.Figure(go.Indicator(\n",
    "        domain = {'x': [0, 1], 'y': [0, 1]},\n",
    "        value = score,\n",
    "        mode = \"gauge+number\",\n",
    "        gauge = {'axis': {'range': [None, 5]},\n",
    "            'bar': {'color': bar_color},\n",
    "            'steps' : [\n",
    "                {'range': [0, 2], 'color': \"gray\"},\n",
    "                {'range': [2, 3.5], 'color': \"lightgray\"}]}   \n",
    "    ))\n",
    "\n",
    "    # Add a custom title as an annotation beneath the value\n",
    "    fig.update_layout(\n",
    "        annotations=[\n",
    "            go.layout.Annotation(\n",
    "                text=\"Health Score Value\",  # Title text\n",
    "                x=0.5,  # Centered horizontally\n",
    "                y=0.5,  # Position it just below the gauge\n",
    "                showarrow=False,\n",
    "                font=dict(size=20)\n",
    "            )\n",
    "        ]\n",
    "    )\n",
    "\n",
    "    fig.show()\n",
    "\n",
    "HSR_meter()"
   ]
  },
  {
   "cell_type": "code",
   "execution_count": null,
   "metadata": {},
   "outputs": [
    {
     "data": {
      "image/png": "[encoded data removed]",
      "text/plain": [
       "<Figure size 800x300 with 1 Axes>"
      ]
     },
     "metadata": {},
     "output_type": "display_data"
    }
   ],
   "source": [
    "import matplotlib.pyplot as plt\n",
    "from matplotlib.patches import Rectangle, Circle\n",
    "import numpy as np\n",
    "\n",
    "# Define nutritional values\n",
    "health_star = 3.5\n",
    "nutrition_info = {\n",
    "    \"ENERGY\": \"1020kJ\",\n",
    "    \"SAT FAT\": \"1.0g\\nLOW\",\n",
    "    \"SUGARS\": \"2.1g\\nLOW\",\n",
    "    \"SODIUM\": \"645mg\",\n",
    "    \"FIBRE\": \"8.0g\\nHIGH\"\n",
    "}\n",
    "\n",
    "# Create figure and axis\n",
    "fig, ax = plt.subplots(figsize=(8, 3))\n",
    "ax.set_xlim(0, 8)\n",
    "ax.set_ylim(0, 3)\n",
    "ax.axis('off')\n",
    "\n",
    "# Draw the star rating section\n",
    "circle = Circle((0.9, 1.5), 1.1, color='#1E90FF')\n",
    "ax.add_patch(circle)\n",
    "ax.text(0.9, 1.5, f\"{health_star}\", fontsize=24, ha=\"center\", color=\"white\", fontweight=\"bold\")\n",
    "ax.text(0.9, 0.8, \"HEALTH STAR\\nRATING\", fontsize=10, ha=\"center\", color=\"white\", fontweight=\"bold\")\n",
    "\n",
    "# Draw nutritional sections\n",
    "x_start = 2.2\n",
    "box_width = 1.2\n",
    "\n",
    "for i, (nutrient, value) in enumerate(nutrition_info.items()):\n",
    "    rect = Rectangle((x_start + i * box_width, 0.5), box_width, 2, color=\"#1E90FF\")\n",
    "    ax.add_patch(rect)\n",
    "    ax.text(x_start + i * box_width + 0.6, 1.6, nutrient, ha=\"center\", fontsize=10, color=\"white\", fontweight=\"bold\")\n",
    "    ax.text(x_start + i * box_width + 0.6, 1.1, value, ha=\"center\", fontsize=10, color=\"white\")\n",
    "\n",
    "plt.show()"
   ]
  }
 ],
 "metadata": {
  "kernelspec": {
   "display_name": "base",
   "language": "python",
   "name": "python3"
  },
  "language_info": {
   "codemirror_mode": {
    "name": "ipython",
    "version": 3
   },
   "file_extension": ".py",
   "mimetype": "text/x-python",
   "name": "python",
   "nbconvert_exporter": "python",
   "pygments_lexer": "ipython3",
   "version": "3.11.7"
  }
 },
 "nbformat": 4,
 "nbformat_minor": 2
}
