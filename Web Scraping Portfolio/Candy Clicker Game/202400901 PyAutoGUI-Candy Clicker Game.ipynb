{
 "cells": [
  {
   "cell_type": "markdown",
   "id": "ee97bad0-c3ff-4b0c-8511-56ed1f71abc9",
   "metadata": {},
   "source": [
    "## Candy Clicker Game & PyAutoGUI\n",
    "- **PyAutoGUI**: 控制電腦的鍵盤、滑鼠，對圖形化介面進行操作的工具\n",
    "- **Selenium (WebDriver & By):** Selenium 是一種 網頁自動化測試 工具 (套件)，開發者可以藉由操作 WebDriver 來自動化瀏覽器行為，如填寫表單、點擊按鈕或連結、取得和驗證網頁內容，而透過 By 模組可以定位與選取網頁中的元素。"
   ]
  },
  {
   "cell_type": "markdown",
   "metadata": {},
   "source": [
    "### ActionChains vs. PyAutoGUI\n",
    "\n",
    "- **ActionChains** 是 Selenium 提供的一種功能，用於在 WebDriver 中模擬複雜的使用者操作。它可以模擬滑鼠移動、點擊、拖曳、右鍵點擊選單，以及鍵盤輸入文字或按鍵等操作。不過，由於 Candy Clicker 2 是使用 Canvas 開發的，遊戲中的元素無法通過標準的 CSS 選取器 來定位，因此無法使用 Selenium 和 ActionChains 來進行自動化。\n",
    "- 而 **PyAutoGUI** 是一個能控制電腦滑鼠與鍵盤的工具，適用於圖形化介面的操作，並不依賴於瀏覽器或網頁中的元素。\n",
    "因此，在這個專案中，選擇使用 PyAutoGUI 來實現自動點擊，因為它能夠根據螢幕上的圖形元素進行精準操作，而不受限於 Web 瀏覽器的元素選取。"
   ]
  },
  {
   "cell_type": "code",
   "execution_count": null,
   "id": "2baec7ec-9a90-401f-8317-6b71ad9ef8c9",
   "metadata": {},
   "outputs": [],
   "source": [
    "'''\n",
    "# 在瀏覽器中取得座標位置\n",
    "BROWSER: F12 -> console\n",
    "\"allow pasting\"\n",
    "\n",
    "document.onmousemove = function(e){\n",
    "    var x = e.pageX;\n",
    "    var y = e.pageY;\n",
    "    e.target.title = \"X is \" + x + \" and Y is \" + y;\n",
    "};\n",
    "'''"
   ]
  },
  {
   "cell_type": "code",
   "execution_count": 1,
   "id": "2ee333c3-ef63-42d8-90a0-0f9c3b504575",
   "metadata": {},
   "outputs": [],
   "source": [
    "'''\n",
    "匯入工具\n",
    "\n",
    "Candy Clicker Game: https://www.crazygames.com/game/candy-clicker-2\n",
    "'''\n",
    "\n",
    "# 操作 browser 的 API\n",
    "from selenium import webdriver\n",
    "from selenium.webdriver.chrome.service import Service\n",
    "from webdriver_manager.chrome import ChromeDriverManager\n",
    "\n",
    "# 期待元素出現要透過什麼方式指定，通常與 EC、WebDriverWait 一起使用\n",
    "from selenium.webdriver.common.by import By\n",
    "\n",
    "# 強制等待 (執行期間休息一下)\n",
    "from time import sleep\n",
    "\n",
    "# 控制電腦的鍵盤、滑鼠，對圖形化介面進行操作的工具\n",
    "import pyautogui\n",
    "\n",
    "# 啟動瀏覽器工具的選項\n",
    "my_options = webdriver.ChromeOptions()\n",
    "# my_options.add_argument(\"--headless\")                #不開啟實體瀏覽器背景執行\n",
    "my_options.add_argument(\"--start-maximized\")         #最大化視窗\n",
    "my_options.add_argument(\"--incognito\")               #開啟無痕模式\n",
    "my_options.add_argument(\"--disable-popup-blocking\") #禁用彈出攔截\n",
    "my_options.add_argument(\"--disable-notifications\")  #取消通知"
   ]
  },
  {
   "cell_type": "code",
   "execution_count": 4,
   "id": "dc715312-7763-4683-bcc2-cd5ee142ad78",
   "metadata": {},
   "outputs": [],
   "source": [
    "# 使用 Chrome 的 WebDriver\n",
    "driver = webdriver.Chrome(\n",
    "    options = my_options\n",
    ")\n",
    "\n",
    "# 前往頁面 Candy Clicker Game\n",
    "driver.get('https://www.crazygames.com/game/candy-clicker-2')\n",
    "\n",
    "# 去除廣告\n",
    "driver.execute_script(\"\"\"\n",
    "let element = document.querySelector('div.css-zggzkc');\n",
    "if (element) {\n",
    "    element.parentNode.removeChild(element);\n",
    "}\n",
    "\"\"\")\n",
    "driver.execute_script(\"\"\"\n",
    "let element = document.querySelector('div.css-11nmvkb');\n",
    "if (element) {\n",
    "    element.parentNode.removeChild(element);\n",
    "}\n",
    "\"\"\")\n",
    "\n",
    "sleep(2)\n",
    "\n",
    "# 取得網頁上的 iframe\n",
    "iframe = driver.find_element(By.CSS_SELECTOR, \"iframe#game-iframe\")\n",
    "\n",
    "# 切換到 iframe 當中\n",
    "driver.switch_to.frame(iframe)\n",
    "\n",
    "# 按\"Start\"座標附近，遊戲開始load\n",
    "pyautogui.click(x=601, y=567)\n",
    "sleep(20)\n",
    "\n",
    "# 第一次連續點擊; 微調座標以利遊戲進行\n",
    "for i in range(50):\n",
    "    pyautogui.click(x=613, y=539)\n",
    "\n",
    "sleep(10)\n",
    "\n",
    "# 第二次連續點擊; 微調座標以利遊戲進行\n",
    "for i in range(500):\n",
    "    pyautogui.click(x=613, y=540)\n",
    "\n",
    "# 睡一下\n",
    "sleep(5)\n",
    "\n",
    "# 關閉 web driver\n",
    "driver.quit()"
   ]
  }
 ],
 "metadata": {
  "kernelspec": {
   "display_name": "web_scraping",
   "language": "python",
   "name": "python3"
  },
  "language_info": {
   "codemirror_mode": {
    "name": "ipython",
    "version": 3
   },
   "file_extension": ".py",
   "mimetype": "text/x-python",
   "name": "python",
   "nbconvert_exporter": "python",
   "pygments_lexer": "ipython3",
   "version": "3.10.14"
  }
 },
 "nbformat": 4,
 "nbformat_minor": 5
}
